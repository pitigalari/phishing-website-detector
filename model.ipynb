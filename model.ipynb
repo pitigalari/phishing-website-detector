{
  "nbformat": 4,
  "nbformat_minor": 0,
  "metadata": {
    "colab": {
      "name": "model.ipynb",
      "provenance": [],
      "collapsed_sections": [],
      "authorship_tag": "ABX9TyPMJVX1uQn6MIcuYtVsT0iw"
    },
    "kernelspec": {
      "name": "python3",
      "display_name": "Python 3"
    }
  },
  "cells": [
    {
      "cell_type": "code",
      "metadata": {
        "id": "lKRTABJ1e3Tj"
      },
      "source": [
        "from sklearn import tree"
      ],
      "execution_count": 3,
      "outputs": []
    }
  ]
}